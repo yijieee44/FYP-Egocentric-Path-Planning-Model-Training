{
 "cells": [
  {
   "cell_type": "markdown",
   "metadata": {},
   "source": [
    "## Import library"
   ]
  },
  {
   "cell_type": "code",
   "execution_count": 1,
   "metadata": {},
   "outputs": [],
   "source": [
    "from torch.utils.data import Dataset, DataLoader, random_split\n",
    "import torch\n",
    "import numpy as np\n",
    "import os\n",
    "from PIL import Image\n",
    "from matplotlib import pyplot as plt\n",
    "import albumentations as A\n",
    "import torch.nn as nn\n",
    "import cv2\n",
    "import time\n",
    "import torch.nn.functional as F\n",
    "from torchvision import transforms as T\n",
    "import copy\n",
    "from tqdm.notebook import tqdm\n",
    "import timm\n",
    "from torchsummary import summary\n",
    "import sys\n",
    "import math"
   ]
  },
  {
   "cell_type": "markdown",
   "metadata": {},
   "source": [
    "## Connect to Cuda"
   ]
  },
  {
   "cell_type": "code",
   "execution_count": 2,
   "metadata": {},
   "outputs": [
    {
     "data": {
      "text/plain": [
       "device(type='cuda', index=0)"
      ]
     },
     "execution_count": 2,
     "metadata": {},
     "output_type": "execute_result"
    }
   ],
   "source": [
    "device = torch.device('cuda:0' if torch.cuda.is_available() else 'cpu')\n",
    "device"
   ]
  },
  {
   "cell_type": "code",
   "execution_count": 3,
   "metadata": {},
   "outputs": [
    {
     "data": {
      "text/plain": [
       "<torch._C.Generator at 0x1bff8e05b90>"
      ]
     },
     "execution_count": 3,
     "metadata": {},
     "output_type": "execute_result"
    }
   ],
   "source": [
    "# seed\n",
    "torch.manual_seed(4)"
   ]
  },
  {
   "cell_type": "markdown",
   "metadata": {},
   "source": [
    "## Initialize data directory"
   ]
  },
  {
   "cell_type": "code",
   "execution_count": 4,
   "metadata": {},
   "outputs": [],
   "source": [
    "DATA_DIR = \"D:\\\\Documents\\\\FYP-technical\\\\Processed4\""
   ]
  },
  {
   "cell_type": "markdown",
   "metadata": {},
   "source": [
    "## Load data and split\n",
    "Make Chunk 10 and Chunk 4 as validation data."
   ]
  },
  {
   "cell_type": "code",
   "execution_count": 5,
   "metadata": {},
   "outputs": [
    {
     "data": {
      "text/plain": [
       "1139"
      ]
     },
     "execution_count": 5,
     "metadata": {},
     "output_type": "execute_result"
    }
   ],
   "source": [
    "vid_list = os.listdir(DATA_DIR)\n",
    "len(vid_list)"
   ]
  },
  {
   "cell_type": "code",
   "execution_count": 6,
   "metadata": {},
   "outputs": [
    {
     "name": "stdout",
     "output_type": "stream",
     "text": [
      "Number of training data: 24938\n",
      "Number of validation data: 11526\n",
      "Total data: 36464\n"
     ]
    }
   ],
   "source": [
    "train_data_list = []\n",
    "val_data_list = []\n",
    "for vid in vid_list:\n",
    "        \n",
    "    vid_data_list = os.listdir(DATA_DIR + \"\\\\\" + vid)\n",
    "    \n",
    "    if vid.startswith('Chunk10') or vid.startswith('Chunk4'):\n",
    "        val_data_list += [vid + \"\\\\\" + x[:4] for x in vid_data_list if x.endswith('_data.csv')]\n",
    "    else:\n",
    "        train_data_list += [vid + \"\\\\\" + x[:4] for x in vid_data_list if x.endswith('_data.csv')]\n",
    "    \n",
    "\n",
    "print(\"Number of training data: \" + str(len(train_data_list)))\n",
    "print(\"Number of validation data: \" + str(len(val_data_list)))\n",
    "print(\"Total data: \" + str(len(train_data_list) + len(val_data_list)))"
   ]
  },
  {
   "cell_type": "markdown",
   "metadata": {},
   "source": [
    "## Initialize model"
   ]
  },
  {
   "cell_type": "code",
   "execution_count": 8,
   "metadata": {},
   "outputs": [],
   "source": [
    "model = timm.create_model('efficientnet_lite0', pretrained=True)"
   ]
  },
  {
   "cell_type": "code",
   "execution_count": 9,
   "metadata": {},
   "outputs": [],
   "source": [
    "model.classifier = nn.Sequential(\n",
    "    nn.Linear(in_features=1280, out_features=512),\n",
    "    nn.Linear(in_features=512, out_features=300),\n",
    "    nn.Unflatten(1, (100, 3))\n",
    ")"
   ]
  },
  {
   "cell_type": "code",
   "execution_count": 10,
   "metadata": {},
   "outputs": [
    {
     "name": "stdout",
     "output_type": "stream",
     "text": [
      "----------------------------------------------------------------\n",
      "        Layer (type)               Output Shape         Param #\n",
      "================================================================\n",
      "            Conv2d-1         [-1, 32, 160, 208]             864\n",
      "       BatchNorm2d-2         [-1, 32, 160, 208]              64\n",
      "             ReLU6-3         [-1, 32, 160, 208]               0\n",
      "            Conv2d-4         [-1, 32, 160, 208]             288\n",
      "       BatchNorm2d-5         [-1, 32, 160, 208]              64\n",
      "             ReLU6-6         [-1, 32, 160, 208]               0\n",
      "          Identity-7         [-1, 32, 160, 208]               0\n",
      "            Conv2d-8         [-1, 16, 160, 208]             512\n",
      "       BatchNorm2d-9         [-1, 16, 160, 208]              32\n",
      "         Identity-10         [-1, 16, 160, 208]               0\n",
      "DepthwiseSeparableConv-11         [-1, 16, 160, 208]               0\n",
      "           Conv2d-12         [-1, 96, 160, 208]           1,536\n",
      "      BatchNorm2d-13         [-1, 96, 160, 208]             192\n",
      "            ReLU6-14         [-1, 96, 160, 208]               0\n",
      "           Conv2d-15          [-1, 96, 80, 104]             864\n",
      "      BatchNorm2d-16          [-1, 96, 80, 104]             192\n",
      "            ReLU6-17          [-1, 96, 80, 104]               0\n",
      "         Identity-18          [-1, 96, 80, 104]               0\n",
      "           Conv2d-19          [-1, 24, 80, 104]           2,304\n",
      "      BatchNorm2d-20          [-1, 24, 80, 104]              48\n",
      " InvertedResidual-21          [-1, 24, 80, 104]               0\n",
      "           Conv2d-22         [-1, 144, 80, 104]           3,456\n",
      "      BatchNorm2d-23         [-1, 144, 80, 104]             288\n",
      "            ReLU6-24         [-1, 144, 80, 104]               0\n",
      "           Conv2d-25         [-1, 144, 80, 104]           1,296\n",
      "      BatchNorm2d-26         [-1, 144, 80, 104]             288\n",
      "            ReLU6-27         [-1, 144, 80, 104]               0\n",
      "         Identity-28         [-1, 144, 80, 104]               0\n",
      "           Conv2d-29          [-1, 24, 80, 104]           3,456\n",
      "      BatchNorm2d-30          [-1, 24, 80, 104]              48\n",
      " InvertedResidual-31          [-1, 24, 80, 104]               0\n",
      "           Conv2d-32         [-1, 144, 80, 104]           3,456\n",
      "      BatchNorm2d-33         [-1, 144, 80, 104]             288\n",
      "            ReLU6-34         [-1, 144, 80, 104]               0\n",
      "           Conv2d-35          [-1, 144, 40, 52]           3,600\n",
      "      BatchNorm2d-36          [-1, 144, 40, 52]             288\n",
      "            ReLU6-37          [-1, 144, 40, 52]               0\n",
      "         Identity-38          [-1, 144, 40, 52]               0\n",
      "           Conv2d-39           [-1, 40, 40, 52]           5,760\n",
      "      BatchNorm2d-40           [-1, 40, 40, 52]              80\n",
      " InvertedResidual-41           [-1, 40, 40, 52]               0\n",
      "           Conv2d-42          [-1, 240, 40, 52]           9,600\n",
      "      BatchNorm2d-43          [-1, 240, 40, 52]             480\n",
      "            ReLU6-44          [-1, 240, 40, 52]               0\n",
      "           Conv2d-45          [-1, 240, 40, 52]           6,000\n",
      "      BatchNorm2d-46          [-1, 240, 40, 52]             480\n",
      "            ReLU6-47          [-1, 240, 40, 52]               0\n",
      "         Identity-48          [-1, 240, 40, 52]               0\n",
      "           Conv2d-49           [-1, 40, 40, 52]           9,600\n",
      "      BatchNorm2d-50           [-1, 40, 40, 52]              80\n",
      " InvertedResidual-51           [-1, 40, 40, 52]               0\n",
      "           Conv2d-52          [-1, 240, 40, 52]           9,600\n",
      "      BatchNorm2d-53          [-1, 240, 40, 52]             480\n",
      "            ReLU6-54          [-1, 240, 40, 52]               0\n",
      "           Conv2d-55          [-1, 240, 20, 26]           2,160\n",
      "      BatchNorm2d-56          [-1, 240, 20, 26]             480\n",
      "            ReLU6-57          [-1, 240, 20, 26]               0\n",
      "         Identity-58          [-1, 240, 20, 26]               0\n",
      "           Conv2d-59           [-1, 80, 20, 26]          19,200\n",
      "      BatchNorm2d-60           [-1, 80, 20, 26]             160\n",
      " InvertedResidual-61           [-1, 80, 20, 26]               0\n",
      "           Conv2d-62          [-1, 480, 20, 26]          38,400\n",
      "      BatchNorm2d-63          [-1, 480, 20, 26]             960\n",
      "            ReLU6-64          [-1, 480, 20, 26]               0\n",
      "           Conv2d-65          [-1, 480, 20, 26]           4,320\n",
      "      BatchNorm2d-66          [-1, 480, 20, 26]             960\n",
      "            ReLU6-67          [-1, 480, 20, 26]               0\n",
      "         Identity-68          [-1, 480, 20, 26]               0\n",
      "           Conv2d-69           [-1, 80, 20, 26]          38,400\n",
      "      BatchNorm2d-70           [-1, 80, 20, 26]             160\n",
      " InvertedResidual-71           [-1, 80, 20, 26]               0\n",
      "           Conv2d-72          [-1, 480, 20, 26]          38,400\n",
      "      BatchNorm2d-73          [-1, 480, 20, 26]             960\n",
      "            ReLU6-74          [-1, 480, 20, 26]               0\n",
      "           Conv2d-75          [-1, 480, 20, 26]           4,320\n",
      "      BatchNorm2d-76          [-1, 480, 20, 26]             960\n",
      "            ReLU6-77          [-1, 480, 20, 26]               0\n",
      "         Identity-78          [-1, 480, 20, 26]               0\n",
      "           Conv2d-79           [-1, 80, 20, 26]          38,400\n",
      "      BatchNorm2d-80           [-1, 80, 20, 26]             160\n",
      " InvertedResidual-81           [-1, 80, 20, 26]               0\n",
      "           Conv2d-82          [-1, 480, 20, 26]          38,400\n",
      "      BatchNorm2d-83          [-1, 480, 20, 26]             960\n",
      "            ReLU6-84          [-1, 480, 20, 26]               0\n",
      "           Conv2d-85          [-1, 480, 20, 26]          12,000\n",
      "      BatchNorm2d-86          [-1, 480, 20, 26]             960\n",
      "            ReLU6-87          [-1, 480, 20, 26]               0\n",
      "         Identity-88          [-1, 480, 20, 26]               0\n",
      "           Conv2d-89          [-1, 112, 20, 26]          53,760\n",
      "      BatchNorm2d-90          [-1, 112, 20, 26]             224\n",
      " InvertedResidual-91          [-1, 112, 20, 26]               0\n",
      "           Conv2d-92          [-1, 672, 20, 26]          75,264\n",
      "      BatchNorm2d-93          [-1, 672, 20, 26]           1,344\n",
      "            ReLU6-94          [-1, 672, 20, 26]               0\n",
      "           Conv2d-95          [-1, 672, 20, 26]          16,800\n",
      "      BatchNorm2d-96          [-1, 672, 20, 26]           1,344\n",
      "            ReLU6-97          [-1, 672, 20, 26]               0\n",
      "         Identity-98          [-1, 672, 20, 26]               0\n",
      "           Conv2d-99          [-1, 112, 20, 26]          75,264\n",
      "     BatchNorm2d-100          [-1, 112, 20, 26]             224\n",
      "InvertedResidual-101          [-1, 112, 20, 26]               0\n",
      "          Conv2d-102          [-1, 672, 20, 26]          75,264\n",
      "     BatchNorm2d-103          [-1, 672, 20, 26]           1,344\n",
      "           ReLU6-104          [-1, 672, 20, 26]               0\n",
      "          Conv2d-105          [-1, 672, 20, 26]          16,800\n",
      "     BatchNorm2d-106          [-1, 672, 20, 26]           1,344\n",
      "           ReLU6-107          [-1, 672, 20, 26]               0\n",
      "        Identity-108          [-1, 672, 20, 26]               0\n",
      "          Conv2d-109          [-1, 112, 20, 26]          75,264\n",
      "     BatchNorm2d-110          [-1, 112, 20, 26]             224\n",
      "InvertedResidual-111          [-1, 112, 20, 26]               0\n",
      "          Conv2d-112          [-1, 672, 20, 26]          75,264\n",
      "     BatchNorm2d-113          [-1, 672, 20, 26]           1,344\n",
      "           ReLU6-114          [-1, 672, 20, 26]               0\n",
      "          Conv2d-115          [-1, 672, 10, 13]          16,800\n",
      "     BatchNorm2d-116          [-1, 672, 10, 13]           1,344\n",
      "           ReLU6-117          [-1, 672, 10, 13]               0\n",
      "        Identity-118          [-1, 672, 10, 13]               0\n",
      "          Conv2d-119          [-1, 192, 10, 13]         129,024\n",
      "     BatchNorm2d-120          [-1, 192, 10, 13]             384\n",
      "InvertedResidual-121          [-1, 192, 10, 13]               0\n",
      "          Conv2d-122         [-1, 1152, 10, 13]         221,184\n",
      "     BatchNorm2d-123         [-1, 1152, 10, 13]           2,304\n",
      "           ReLU6-124         [-1, 1152, 10, 13]               0\n",
      "          Conv2d-125         [-1, 1152, 10, 13]          28,800\n",
      "     BatchNorm2d-126         [-1, 1152, 10, 13]           2,304\n",
      "           ReLU6-127         [-1, 1152, 10, 13]               0\n",
      "        Identity-128         [-1, 1152, 10, 13]               0\n",
      "          Conv2d-129          [-1, 192, 10, 13]         221,184\n",
      "     BatchNorm2d-130          [-1, 192, 10, 13]             384\n",
      "InvertedResidual-131          [-1, 192, 10, 13]               0\n",
      "          Conv2d-132         [-1, 1152, 10, 13]         221,184\n",
      "     BatchNorm2d-133         [-1, 1152, 10, 13]           2,304\n",
      "           ReLU6-134         [-1, 1152, 10, 13]               0\n",
      "          Conv2d-135         [-1, 1152, 10, 13]          28,800\n",
      "     BatchNorm2d-136         [-1, 1152, 10, 13]           2,304\n",
      "           ReLU6-137         [-1, 1152, 10, 13]               0\n",
      "        Identity-138         [-1, 1152, 10, 13]               0\n",
      "          Conv2d-139          [-1, 192, 10, 13]         221,184\n",
      "     BatchNorm2d-140          [-1, 192, 10, 13]             384\n",
      "InvertedResidual-141          [-1, 192, 10, 13]               0\n",
      "          Conv2d-142         [-1, 1152, 10, 13]         221,184\n",
      "     BatchNorm2d-143         [-1, 1152, 10, 13]           2,304\n",
      "           ReLU6-144         [-1, 1152, 10, 13]               0\n",
      "          Conv2d-145         [-1, 1152, 10, 13]          28,800\n",
      "     BatchNorm2d-146         [-1, 1152, 10, 13]           2,304\n",
      "           ReLU6-147         [-1, 1152, 10, 13]               0\n",
      "        Identity-148         [-1, 1152, 10, 13]               0\n",
      "          Conv2d-149          [-1, 192, 10, 13]         221,184\n",
      "     BatchNorm2d-150          [-1, 192, 10, 13]             384\n",
      "InvertedResidual-151          [-1, 192, 10, 13]               0\n",
      "          Conv2d-152         [-1, 1152, 10, 13]         221,184\n",
      "     BatchNorm2d-153         [-1, 1152, 10, 13]           2,304\n",
      "           ReLU6-154         [-1, 1152, 10, 13]               0\n",
      "          Conv2d-155         [-1, 1152, 10, 13]          10,368\n",
      "     BatchNorm2d-156         [-1, 1152, 10, 13]           2,304\n",
      "           ReLU6-157         [-1, 1152, 10, 13]               0\n",
      "        Identity-158         [-1, 1152, 10, 13]               0\n",
      "          Conv2d-159          [-1, 320, 10, 13]         368,640\n",
      "     BatchNorm2d-160          [-1, 320, 10, 13]             640\n",
      "InvertedResidual-161          [-1, 320, 10, 13]               0\n",
      "          Conv2d-162         [-1, 1280, 10, 13]         409,600\n",
      "     BatchNorm2d-163         [-1, 1280, 10, 13]           2,560\n",
      "           ReLU6-164         [-1, 1280, 10, 13]               0\n",
      "AdaptiveAvgPool2d-165           [-1, 1280, 1, 1]               0\n",
      "         Flatten-166                 [-1, 1280]               0\n",
      "SelectAdaptivePool2d-167                 [-1, 1280]               0\n",
      "          Linear-168                  [-1, 512]         655,872\n",
      "          Linear-169                  [-1, 300]         153,900\n",
      "       Unflatten-170               [-1, 100, 3]               0\n",
      "================================================================\n",
      "Total params: 4,180,780\n",
      "Trainable params: 4,180,780\n",
      "Non-trainable params: 0\n",
      "----------------------------------------------------------------\n",
      "Input size (MB): 1.52\n",
      "Forward/backward pass size (MB): 459.93\n",
      "Params size (MB): 15.95\n",
      "Estimated Total Size (MB): 477.40\n",
      "----------------------------------------------------------------\n"
     ]
    }
   ],
   "source": [
    "summary(model, (3, 320,416), device=\"cpu\")"
   ]
  },
  {
   "cell_type": "code",
   "execution_count": 11,
   "metadata": {},
   "outputs": [
    {
     "data": {
      "text/plain": [
       "EfficientNet(\n",
       "  (conv_stem): Conv2d(3, 32, kernel_size=(3, 3), stride=(2, 2), padding=(1, 1), bias=False)\n",
       "  (bn1): BatchNorm2d(32, eps=1e-05, momentum=0.1, affine=True, track_running_stats=True)\n",
       "  (act1): ReLU6(inplace=True)\n",
       "  (blocks): Sequential(\n",
       "    (0): Sequential(\n",
       "      (0): DepthwiseSeparableConv(\n",
       "        (conv_dw): Conv2d(32, 32, kernel_size=(3, 3), stride=(1, 1), padding=(1, 1), groups=32, bias=False)\n",
       "        (bn1): BatchNorm2d(32, eps=1e-05, momentum=0.1, affine=True, track_running_stats=True)\n",
       "        (act1): ReLU6(inplace=True)\n",
       "        (se): Identity()\n",
       "        (conv_pw): Conv2d(32, 16, kernel_size=(1, 1), stride=(1, 1), bias=False)\n",
       "        (bn2): BatchNorm2d(16, eps=1e-05, momentum=0.1, affine=True, track_running_stats=True)\n",
       "        (act2): Identity()\n",
       "      )\n",
       "    )\n",
       "    (1): Sequential(\n",
       "      (0): InvertedResidual(\n",
       "        (conv_pw): Conv2d(16, 96, kernel_size=(1, 1), stride=(1, 1), bias=False)\n",
       "        (bn1): BatchNorm2d(96, eps=1e-05, momentum=0.1, affine=True, track_running_stats=True)\n",
       "        (act1): ReLU6(inplace=True)\n",
       "        (conv_dw): Conv2d(96, 96, kernel_size=(3, 3), stride=(2, 2), padding=(1, 1), groups=96, bias=False)\n",
       "        (bn2): BatchNorm2d(96, eps=1e-05, momentum=0.1, affine=True, track_running_stats=True)\n",
       "        (act2): ReLU6(inplace=True)\n",
       "        (se): Identity()\n",
       "        (conv_pwl): Conv2d(96, 24, kernel_size=(1, 1), stride=(1, 1), bias=False)\n",
       "        (bn3): BatchNorm2d(24, eps=1e-05, momentum=0.1, affine=True, track_running_stats=True)\n",
       "      )\n",
       "      (1): InvertedResidual(\n",
       "        (conv_pw): Conv2d(24, 144, kernel_size=(1, 1), stride=(1, 1), bias=False)\n",
       "        (bn1): BatchNorm2d(144, eps=1e-05, momentum=0.1, affine=True, track_running_stats=True)\n",
       "        (act1): ReLU6(inplace=True)\n",
       "        (conv_dw): Conv2d(144, 144, kernel_size=(3, 3), stride=(1, 1), padding=(1, 1), groups=144, bias=False)\n",
       "        (bn2): BatchNorm2d(144, eps=1e-05, momentum=0.1, affine=True, track_running_stats=True)\n",
       "        (act2): ReLU6(inplace=True)\n",
       "        (se): Identity()\n",
       "        (conv_pwl): Conv2d(144, 24, kernel_size=(1, 1), stride=(1, 1), bias=False)\n",
       "        (bn3): BatchNorm2d(24, eps=1e-05, momentum=0.1, affine=True, track_running_stats=True)\n",
       "      )\n",
       "    )\n",
       "    (2): Sequential(\n",
       "      (0): InvertedResidual(\n",
       "        (conv_pw): Conv2d(24, 144, kernel_size=(1, 1), stride=(1, 1), bias=False)\n",
       "        (bn1): BatchNorm2d(144, eps=1e-05, momentum=0.1, affine=True, track_running_stats=True)\n",
       "        (act1): ReLU6(inplace=True)\n",
       "        (conv_dw): Conv2d(144, 144, kernel_size=(5, 5), stride=(2, 2), padding=(2, 2), groups=144, bias=False)\n",
       "        (bn2): BatchNorm2d(144, eps=1e-05, momentum=0.1, affine=True, track_running_stats=True)\n",
       "        (act2): ReLU6(inplace=True)\n",
       "        (se): Identity()\n",
       "        (conv_pwl): Conv2d(144, 40, kernel_size=(1, 1), stride=(1, 1), bias=False)\n",
       "        (bn3): BatchNorm2d(40, eps=1e-05, momentum=0.1, affine=True, track_running_stats=True)\n",
       "      )\n",
       "      (1): InvertedResidual(\n",
       "        (conv_pw): Conv2d(40, 240, kernel_size=(1, 1), stride=(1, 1), bias=False)\n",
       "        (bn1): BatchNorm2d(240, eps=1e-05, momentum=0.1, affine=True, track_running_stats=True)\n",
       "        (act1): ReLU6(inplace=True)\n",
       "        (conv_dw): Conv2d(240, 240, kernel_size=(5, 5), stride=(1, 1), padding=(2, 2), groups=240, bias=False)\n",
       "        (bn2): BatchNorm2d(240, eps=1e-05, momentum=0.1, affine=True, track_running_stats=True)\n",
       "        (act2): ReLU6(inplace=True)\n",
       "        (se): Identity()\n",
       "        (conv_pwl): Conv2d(240, 40, kernel_size=(1, 1), stride=(1, 1), bias=False)\n",
       "        (bn3): BatchNorm2d(40, eps=1e-05, momentum=0.1, affine=True, track_running_stats=True)\n",
       "      )\n",
       "    )\n",
       "    (3): Sequential(\n",
       "      (0): InvertedResidual(\n",
       "        (conv_pw): Conv2d(40, 240, kernel_size=(1, 1), stride=(1, 1), bias=False)\n",
       "        (bn1): BatchNorm2d(240, eps=1e-05, momentum=0.1, affine=True, track_running_stats=True)\n",
       "        (act1): ReLU6(inplace=True)\n",
       "        (conv_dw): Conv2d(240, 240, kernel_size=(3, 3), stride=(2, 2), padding=(1, 1), groups=240, bias=False)\n",
       "        (bn2): BatchNorm2d(240, eps=1e-05, momentum=0.1, affine=True, track_running_stats=True)\n",
       "        (act2): ReLU6(inplace=True)\n",
       "        (se): Identity()\n",
       "        (conv_pwl): Conv2d(240, 80, kernel_size=(1, 1), stride=(1, 1), bias=False)\n",
       "        (bn3): BatchNorm2d(80, eps=1e-05, momentum=0.1, affine=True, track_running_stats=True)\n",
       "      )\n",
       "      (1): InvertedResidual(\n",
       "        (conv_pw): Conv2d(80, 480, kernel_size=(1, 1), stride=(1, 1), bias=False)\n",
       "        (bn1): BatchNorm2d(480, eps=1e-05, momentum=0.1, affine=True, track_running_stats=True)\n",
       "        (act1): ReLU6(inplace=True)\n",
       "        (conv_dw): Conv2d(480, 480, kernel_size=(3, 3), stride=(1, 1), padding=(1, 1), groups=480, bias=False)\n",
       "        (bn2): BatchNorm2d(480, eps=1e-05, momentum=0.1, affine=True, track_running_stats=True)\n",
       "        (act2): ReLU6(inplace=True)\n",
       "        (se): Identity()\n",
       "        (conv_pwl): Conv2d(480, 80, kernel_size=(1, 1), stride=(1, 1), bias=False)\n",
       "        (bn3): BatchNorm2d(80, eps=1e-05, momentum=0.1, affine=True, track_running_stats=True)\n",
       "      )\n",
       "      (2): InvertedResidual(\n",
       "        (conv_pw): Conv2d(80, 480, kernel_size=(1, 1), stride=(1, 1), bias=False)\n",
       "        (bn1): BatchNorm2d(480, eps=1e-05, momentum=0.1, affine=True, track_running_stats=True)\n",
       "        (act1): ReLU6(inplace=True)\n",
       "        (conv_dw): Conv2d(480, 480, kernel_size=(3, 3), stride=(1, 1), padding=(1, 1), groups=480, bias=False)\n",
       "        (bn2): BatchNorm2d(480, eps=1e-05, momentum=0.1, affine=True, track_running_stats=True)\n",
       "        (act2): ReLU6(inplace=True)\n",
       "        (se): Identity()\n",
       "        (conv_pwl): Conv2d(480, 80, kernel_size=(1, 1), stride=(1, 1), bias=False)\n",
       "        (bn3): BatchNorm2d(80, eps=1e-05, momentum=0.1, affine=True, track_running_stats=True)\n",
       "      )\n",
       "    )\n",
       "    (4): Sequential(\n",
       "      (0): InvertedResidual(\n",
       "        (conv_pw): Conv2d(80, 480, kernel_size=(1, 1), stride=(1, 1), bias=False)\n",
       "        (bn1): BatchNorm2d(480, eps=1e-05, momentum=0.1, affine=True, track_running_stats=True)\n",
       "        (act1): ReLU6(inplace=True)\n",
       "        (conv_dw): Conv2d(480, 480, kernel_size=(5, 5), stride=(1, 1), padding=(2, 2), groups=480, bias=False)\n",
       "        (bn2): BatchNorm2d(480, eps=1e-05, momentum=0.1, affine=True, track_running_stats=True)\n",
       "        (act2): ReLU6(inplace=True)\n",
       "        (se): Identity()\n",
       "        (conv_pwl): Conv2d(480, 112, kernel_size=(1, 1), stride=(1, 1), bias=False)\n",
       "        (bn3): BatchNorm2d(112, eps=1e-05, momentum=0.1, affine=True, track_running_stats=True)\n",
       "      )\n",
       "      (1): InvertedResidual(\n",
       "        (conv_pw): Conv2d(112, 672, kernel_size=(1, 1), stride=(1, 1), bias=False)\n",
       "        (bn1): BatchNorm2d(672, eps=1e-05, momentum=0.1, affine=True, track_running_stats=True)\n",
       "        (act1): ReLU6(inplace=True)\n",
       "        (conv_dw): Conv2d(672, 672, kernel_size=(5, 5), stride=(1, 1), padding=(2, 2), groups=672, bias=False)\n",
       "        (bn2): BatchNorm2d(672, eps=1e-05, momentum=0.1, affine=True, track_running_stats=True)\n",
       "        (act2): ReLU6(inplace=True)\n",
       "        (se): Identity()\n",
       "        (conv_pwl): Conv2d(672, 112, kernel_size=(1, 1), stride=(1, 1), bias=False)\n",
       "        (bn3): BatchNorm2d(112, eps=1e-05, momentum=0.1, affine=True, track_running_stats=True)\n",
       "      )\n",
       "      (2): InvertedResidual(\n",
       "        (conv_pw): Conv2d(112, 672, kernel_size=(1, 1), stride=(1, 1), bias=False)\n",
       "        (bn1): BatchNorm2d(672, eps=1e-05, momentum=0.1, affine=True, track_running_stats=True)\n",
       "        (act1): ReLU6(inplace=True)\n",
       "        (conv_dw): Conv2d(672, 672, kernel_size=(5, 5), stride=(1, 1), padding=(2, 2), groups=672, bias=False)\n",
       "        (bn2): BatchNorm2d(672, eps=1e-05, momentum=0.1, affine=True, track_running_stats=True)\n",
       "        (act2): ReLU6(inplace=True)\n",
       "        (se): Identity()\n",
       "        (conv_pwl): Conv2d(672, 112, kernel_size=(1, 1), stride=(1, 1), bias=False)\n",
       "        (bn3): BatchNorm2d(112, eps=1e-05, momentum=0.1, affine=True, track_running_stats=True)\n",
       "      )\n",
       "    )\n",
       "    (5): Sequential(\n",
       "      (0): InvertedResidual(\n",
       "        (conv_pw): Conv2d(112, 672, kernel_size=(1, 1), stride=(1, 1), bias=False)\n",
       "        (bn1): BatchNorm2d(672, eps=1e-05, momentum=0.1, affine=True, track_running_stats=True)\n",
       "        (act1): ReLU6(inplace=True)\n",
       "        (conv_dw): Conv2d(672, 672, kernel_size=(5, 5), stride=(2, 2), padding=(2, 2), groups=672, bias=False)\n",
       "        (bn2): BatchNorm2d(672, eps=1e-05, momentum=0.1, affine=True, track_running_stats=True)\n",
       "        (act2): ReLU6(inplace=True)\n",
       "        (se): Identity()\n",
       "        (conv_pwl): Conv2d(672, 192, kernel_size=(1, 1), stride=(1, 1), bias=False)\n",
       "        (bn3): BatchNorm2d(192, eps=1e-05, momentum=0.1, affine=True, track_running_stats=True)\n",
       "      )\n",
       "      (1): InvertedResidual(\n",
       "        (conv_pw): Conv2d(192, 1152, kernel_size=(1, 1), stride=(1, 1), bias=False)\n",
       "        (bn1): BatchNorm2d(1152, eps=1e-05, momentum=0.1, affine=True, track_running_stats=True)\n",
       "        (act1): ReLU6(inplace=True)\n",
       "        (conv_dw): Conv2d(1152, 1152, kernel_size=(5, 5), stride=(1, 1), padding=(2, 2), groups=1152, bias=False)\n",
       "        (bn2): BatchNorm2d(1152, eps=1e-05, momentum=0.1, affine=True, track_running_stats=True)\n",
       "        (act2): ReLU6(inplace=True)\n",
       "        (se): Identity()\n",
       "        (conv_pwl): Conv2d(1152, 192, kernel_size=(1, 1), stride=(1, 1), bias=False)\n",
       "        (bn3): BatchNorm2d(192, eps=1e-05, momentum=0.1, affine=True, track_running_stats=True)\n",
       "      )\n",
       "      (2): InvertedResidual(\n",
       "        (conv_pw): Conv2d(192, 1152, kernel_size=(1, 1), stride=(1, 1), bias=False)\n",
       "        (bn1): BatchNorm2d(1152, eps=1e-05, momentum=0.1, affine=True, track_running_stats=True)\n",
       "        (act1): ReLU6(inplace=True)\n",
       "        (conv_dw): Conv2d(1152, 1152, kernel_size=(5, 5), stride=(1, 1), padding=(2, 2), groups=1152, bias=False)\n",
       "        (bn2): BatchNorm2d(1152, eps=1e-05, momentum=0.1, affine=True, track_running_stats=True)\n",
       "        (act2): ReLU6(inplace=True)\n",
       "        (se): Identity()\n",
       "        (conv_pwl): Conv2d(1152, 192, kernel_size=(1, 1), stride=(1, 1), bias=False)\n",
       "        (bn3): BatchNorm2d(192, eps=1e-05, momentum=0.1, affine=True, track_running_stats=True)\n",
       "      )\n",
       "      (3): InvertedResidual(\n",
       "        (conv_pw): Conv2d(192, 1152, kernel_size=(1, 1), stride=(1, 1), bias=False)\n",
       "        (bn1): BatchNorm2d(1152, eps=1e-05, momentum=0.1, affine=True, track_running_stats=True)\n",
       "        (act1): ReLU6(inplace=True)\n",
       "        (conv_dw): Conv2d(1152, 1152, kernel_size=(5, 5), stride=(1, 1), padding=(2, 2), groups=1152, bias=False)\n",
       "        (bn2): BatchNorm2d(1152, eps=1e-05, momentum=0.1, affine=True, track_running_stats=True)\n",
       "        (act2): ReLU6(inplace=True)\n",
       "        (se): Identity()\n",
       "        (conv_pwl): Conv2d(1152, 192, kernel_size=(1, 1), stride=(1, 1), bias=False)\n",
       "        (bn3): BatchNorm2d(192, eps=1e-05, momentum=0.1, affine=True, track_running_stats=True)\n",
       "      )\n",
       "    )\n",
       "    (6): Sequential(\n",
       "      (0): InvertedResidual(\n",
       "        (conv_pw): Conv2d(192, 1152, kernel_size=(1, 1), stride=(1, 1), bias=False)\n",
       "        (bn1): BatchNorm2d(1152, eps=1e-05, momentum=0.1, affine=True, track_running_stats=True)\n",
       "        (act1): ReLU6(inplace=True)\n",
       "        (conv_dw): Conv2d(1152, 1152, kernel_size=(3, 3), stride=(1, 1), padding=(1, 1), groups=1152, bias=False)\n",
       "        (bn2): BatchNorm2d(1152, eps=1e-05, momentum=0.1, affine=True, track_running_stats=True)\n",
       "        (act2): ReLU6(inplace=True)\n",
       "        (se): Identity()\n",
       "        (conv_pwl): Conv2d(1152, 320, kernel_size=(1, 1), stride=(1, 1), bias=False)\n",
       "        (bn3): BatchNorm2d(320, eps=1e-05, momentum=0.1, affine=True, track_running_stats=True)\n",
       "      )\n",
       "    )\n",
       "  )\n",
       "  (conv_head): Conv2d(320, 1280, kernel_size=(1, 1), stride=(1, 1), bias=False)\n",
       "  (bn2): BatchNorm2d(1280, eps=1e-05, momentum=0.1, affine=True, track_running_stats=True)\n",
       "  (act2): ReLU6(inplace=True)\n",
       "  (global_pool): SelectAdaptivePool2d (pool_type=avg, flatten=Flatten(start_dim=1, end_dim=-1))\n",
       "  (classifier): Sequential(\n",
       "    (0): Linear(in_features=1280, out_features=512, bias=True)\n",
       "    (1): Linear(in_features=512, out_features=300, bias=True)\n",
       "    (2): Unflatten(dim=1, unflattened_size=(100, 3))\n",
       "  )\n",
       ")"
      ]
     },
     "execution_count": 11,
     "metadata": {},
     "output_type": "execute_result"
    }
   ],
   "source": [
    "model"
   ]
  },
  {
   "cell_type": "markdown",
   "metadata": {},
   "source": [
    "## Dataset class"
   ]
  },
  {
   "cell_type": "code",
   "execution_count": 12,
   "metadata": {},
   "outputs": [],
   "source": [
    "class RoadPathDataset(Dataset):\n",
    "    \n",
    "    def __init__(self, data_path, data_list, img_preprocess, data_preprocess, transform=None):\n",
    "        self.data_path = data_path\n",
    "        self.data_list = data_list\n",
    "        self.transform = transform\n",
    "        self.img_preprocess = img_preprocess\n",
    "        self.data_preprocess = data_preprocess\n",
    "        \n",
    "    def __len__(self):\n",
    "        return len(self.data_list)\n",
    "    \n",
    "    def __getitem__(self, idx):\n",
    "        img = cv2.imread(self.data_path + \"\\\\\" + self.data_list[idx] + \"_img.jpg\")\n",
    "        img = cv2.cvtColor(img, cv2.COLOR_BGR2RGB)\n",
    "        path = np.genfromtxt(self.data_path + \"\\\\\" + self.data_list[idx] + \"_data.csv\",delimiter=',')\n",
    "        \n",
    "        if self.transform:\n",
    "            aug = self.transform(image=img)\n",
    "            img = Image.fromarray(aug['image'])\n",
    "        \n",
    "        if self.img_preprocess:\n",
    "            img = self.img_preprocess(img)\n",
    "        \n",
    "        if self.data_preprocess:\n",
    "            path = self.data_preprocess(path)\n",
    "            path = torch.squeeze(path, 0)\n",
    "            \n",
    "        return img, path"
   ]
  },
  {
   "cell_type": "code",
   "execution_count": 13,
   "metadata": {},
   "outputs": [],
   "source": [
    "## transform\n",
    "train_transform = A.Compose([\n",
    "                A.augmentations.transforms.GaussNoise(p=0.2),\n",
    "                A.OneOf(\n",
    "                    [A.CLAHE(p=1.0),\n",
    "                    A.RandomGamma(p=1.0),\n",
    "                    ],p=0.5),\n",
    "                A.OneOf(\n",
    "                    [A.augmentations.transforms.Sharpen(p=1.0),\n",
    "                    A.Blur(blur_limit=3, p=1.0),\n",
    "                    A.MotionBlur(blur_limit=3, p=1.0),\n",
    "                    ],p=0.5),\n",
    "                A.OneOf(\n",
    "                    [A.HueSaturationValue(p=1.0),\n",
    "                     A.RGBShift(1.0)\n",
    "                    ],p=0.5),\n",
    "                A.Resize(height=320, width=416, p=1.0), ## need to be multiple of 32\n",
    "            ], p=1.0)\n",
    "\n",
    "val_transform = A.Compose([\n",
    "            A.Resize(height=320, width=416, p=1.0),\n",
    "        ], p=1.0)\n",
    "\n",
    "## image preprocess \n",
    "img_preprocess = T.Compose([\n",
    "    T.ToTensor(), \n",
    "    T.Normalize([0.485, 0.456, 0.406], [0.229, 0.224, 0.225]) ## mean and standard deviation\n",
    "])\n",
    "\n",
    "## target preprocess \n",
    "data_preprocess = T.Compose([\n",
    "    T.ToTensor()\n",
    "])"
   ]
  },
  {
   "cell_type": "code",
   "execution_count": 14,
   "metadata": {},
   "outputs": [],
   "source": [
    "train_data = RoadPathDataset(\n",
    "                data_path = DATA_DIR, \n",
    "                data_list = train_data_list,\n",
    "                img_preprocess = img_preprocess,\n",
    "                data_preprocess = data_preprocess,\n",
    "                transform = train_transform\n",
    "                )\n",
    "\n",
    "val_data = RoadPathDataset(\n",
    "                data_path = DATA_DIR, \n",
    "                data_list = val_data_list,\n",
    "                img_preprocess = img_preprocess,\n",
    "                data_preprocess = data_preprocess,\n",
    "                transform = val_transform\n",
    "                )\n",
    "\n",
    "train_loader = DataLoader(train_data, batch_size=4, shuffle=True)\n",
    "val_loader = DataLoader(val_data, batch_size=4, shuffle=True)"
   ]
  },
  {
   "cell_type": "code",
   "execution_count": 14,
   "metadata": {},
   "outputs": [],
   "source": [
    "def get_target_mean_and_std(dataloader):\n",
    "    channels_sum, channels_squared_sum, num_batches = 0, 0, 0\n",
    "    for _, target in tqdm(dataloader, leave=True):\n",
    "        # Mean over batch, height and width, but not over the channels\n",
    "        channels_sum += torch.mean(torch.mean(target, 1), 0)\n",
    "        channels_squared_sum += torch.mean(torch.mean(target**2, 1), 0)\n",
    "        num_batches += 1\n",
    "    \n",
    "    mean = channels_sum / num_batches\n",
    "\n",
    "    # std = sqrt(E[X^2] - (E[X])^2)\n",
    "    std = (channels_squared_sum / num_batches - mean ** 2) ** 0.5\n",
    "\n",
    "    return mean, std"
   ]
  },
  {
   "cell_type": "code",
   "execution_count": 88,
   "metadata": {
    "scrolled": true
   },
   "outputs": [
    {
     "data": {
      "application/vnd.jupyter.widget-view+json": {
       "model_id": "8a6fc172099746a3841d39907f15d66c",
       "version_major": 2,
       "version_minor": 0
      },
      "text/plain": [
       "HBox(children=(IntProgress(value=0, max=6235), HTML(value='')))"
      ]
     },
     "metadata": {},
     "output_type": "display_data"
    },
    {
     "name": "stdout",
     "output_type": "stream",
     "text": [
      "\n"
     ]
    },
    {
     "data": {
      "text/plain": [
       "(tensor([35.4279,  0.7769, -1.7467], dtype=torch.float64),\n",
       " tensor([22.9786,  1.4706,  1.3428], dtype=torch.float64))"
      ]
     },
     "execution_count": 88,
     "metadata": {},
     "output_type": "execute_result"
    }
   ],
   "source": [
    "# get_target_mean_and_std(train_loader)"
   ]
  },
  {
   "cell_type": "code",
   "execution_count": 15,
   "metadata": {},
   "outputs": [],
   "source": [
    "class TargetNormalize(object):\n",
    "    def __call__(self, x):\n",
    "        mean = torch.tensor([35.4279,  0.7769, -1.7467])\n",
    "        std = torch.tensor([22.9786,  1.4706,  1.3428])\n",
    "        x_normed = (x - mean) / std\n",
    "        return x_normed"
   ]
  },
  {
   "cell_type": "code",
   "execution_count": 16,
   "metadata": {},
   "outputs": [],
   "source": [
    "## target preprocess \n",
    "data_preprocess = T.Compose([\n",
    "    T.ToTensor(),\n",
    "    TargetNormalize()\n",
    "])"
   ]
  },
  {
   "cell_type": "code",
   "execution_count": 17,
   "metadata": {},
   "outputs": [],
   "source": [
    "train_data = RoadPathDataset(\n",
    "                data_path = DATA_DIR, \n",
    "                data_list = train_data_list,\n",
    "                img_preprocess = img_preprocess,\n",
    "                data_preprocess = data_preprocess,\n",
    "                transform = train_transform\n",
    "                )\n",
    "\n",
    "val_data = RoadPathDataset(\n",
    "                data_path = DATA_DIR, \n",
    "                data_list = val_data_list,\n",
    "                img_preprocess = img_preprocess,\n",
    "                data_preprocess = data_preprocess,\n",
    "                transform = val_transform\n",
    "                )\n",
    "\n",
    "train_loader = DataLoader(train_data, batch_size=4, shuffle=True)\n",
    "val_loader = DataLoader(val_data, batch_size=4, shuffle=True)"
   ]
  },
  {
   "cell_type": "markdown",
   "metadata": {},
   "source": [
    "## Loss function, optimizer, lr scheduler, metrics"
   ]
  },
  {
   "cell_type": "code",
   "execution_count": 18,
   "metadata": {},
   "outputs": [],
   "source": [
    "max_lr = 1e-3\n",
    "epoch = 10\n",
    "weight_decay = 1e-4\n",
    "\n",
    "criterion = nn.L1Loss()\n",
    "criterion.__name__ = \"mean_absolute_loss\"\n",
    "optimizer = torch.optim.AdamW(model.parameters(), lr=max_lr, weight_decay=weight_decay)\n",
    "sched = torch.optim.lr_scheduler.OneCycleLR(optimizer, max_lr, epochs=epoch,\n",
    "                                            steps_per_epoch=len(train_loader))"
   ]
  },
  {
   "cell_type": "code",
   "execution_count": 19,
   "metadata": {},
   "outputs": [],
   "source": [
    "from utils.metrics import MeanIoU\n",
    "metrics = [MeanIoU()]"
   ]
  },
  {
   "cell_type": "code",
   "execution_count": 20,
   "metadata": {},
   "outputs": [],
   "source": [
    "from utils.train import TrainEpoch, ValidEpoch"
   ]
  },
  {
   "cell_type": "code",
   "execution_count": 21,
   "metadata": {},
   "outputs": [],
   "source": [
    "def train(epoch, model, train_loader, val_loader, criterion, optimizer, scheduler, metrics, device):\n",
    "    \n",
    "    fit_time = time.time()\n",
    "    min_loss = np.inf\n",
    "    train_loss = []; val_loss = []\n",
    "    train_iou = []; val_iou = []\n",
    "    \n",
    "    \n",
    "    ## create epoch runners\n",
    "    train_epoch = TrainEpoch(\n",
    "        model, \n",
    "        loss=criterion, \n",
    "        metrics=metrics, \n",
    "        optimizer=optimizer,\n",
    "        device=device,\n",
    "        verbose=True,\n",
    "    )\n",
    "    \n",
    "    val_epoch = ValidEpoch(\n",
    "        model, \n",
    "        loss=criterion, \n",
    "        metrics=metrics, \n",
    "        device=device,\n",
    "        verbose=True,\n",
    "    )\n",
    "\n",
    "    for e in range(epoch):\n",
    "        print('Epoch {}/{}'.format(e+1, epoch))\n",
    "        print('-' * 10)\n",
    "        since = time.time()\n",
    "        \n",
    "        train_logs = train_epoch.run(train_loader)\n",
    "        val_logs = val_epoch.run(val_loader)\n",
    "        \n",
    "        ## step lr\n",
    "        scheduler.step() \n",
    "        \n",
    "        ## store metrics \n",
    "        train_loss.append(train_logs['mean_absolute_loss'])\n",
    "        train_iou.append(train_logs['mean_iou'])\n",
    "        \n",
    "        val_loss.append(val_logs['mean_absolute_loss'])\n",
    "        val_iou.append(val_logs['mean_iou'])\n",
    "            \n",
    "\n",
    "        torch.save(model.state_dict(), './eff_model-lite-epoch-'+ str(e) +'.pth')\n",
    "\n",
    "        print(\"Time: {:.2f}m\".format((time.time()-since)/60))\n",
    "        print()\n",
    "                      \n",
    "    print('Least Val Loss: {:4f}'.format(min_loss))\n",
    "    print('Total time: {:.2f} m' .format((time.time()- fit_time)/60))\n",
    "        \n",
    "    history = {'train_loss' : train_loss, 'val_loss': val_loss,\n",
    "               'train_iou' :train_iou, 'val_iou':val_iou,\n",
    "              }\n",
    "    return history"
   ]
  },
  {
   "cell_type": "code",
   "execution_count": 22,
   "metadata": {
    "scrolled": false
   },
   "outputs": [
    {
     "name": "stdout",
     "output_type": "stream",
     "text": [
      "Epoch 1/10\n",
      "----------\n",
      "train: 100%|█████████████████████| 6235/6235 [1:58:06<00:00,  1.14s/it, mean_absolute_loss - 0.3661, mean_iou - 0.7391]\n",
      "valid: 100%|████████████████████████| 2882/2882 [28:56<00:00,  1.66it/s, mean_absolute_loss - 0.2736, mean_iou - 0.868]\n",
      "Time: 147.06m\n",
      "\n",
      "Epoch 2/10\n",
      "----------\n",
      "train: 100%|█████████████████████| 6235/6235 [1:50:28<00:00,  1.06s/it, mean_absolute_loss - 0.2384, mean_iou - 0.8332]\n",
      "valid: 100%|███████████████████████| 2882/2882 [27:05<00:00,  1.77it/s, mean_absolute_loss - 0.2385, mean_iou - 0.8309]\n",
      "Time: 137.57m\n",
      "\n",
      "Epoch 3/10\n",
      "----------\n",
      "train: 100%|█████████████████████| 6235/6235 [1:50:42<00:00,  1.07s/it, mean_absolute_loss - 0.2047, mean_iou - 0.8734]\n",
      "valid: 100%|███████████████████████| 2882/2882 [27:45<00:00,  1.73it/s, mean_absolute_loss - 0.2311, mean_iou - 0.8347]\n",
      "Time: 138.48m\n",
      "\n",
      "Epoch 4/10\n",
      "----------\n",
      "train: 100%|█████████████████████| 6235/6235 [1:49:40<00:00,  1.06s/it, mean_absolute_loss - 0.1867, mean_iou - 0.8942]\n",
      "valid: 100%|█████████████████████████| 2882/2882 [27:19<00:00,  1.76it/s, mean_absolute_loss - 0.21, mean_iou - 0.7518]\n",
      "Time: 137.00m\n",
      "\n",
      "Epoch 5/10\n",
      "----------\n",
      "train: 100%|█████████████████████| 6235/6235 [1:48:58<00:00,  1.05s/it, mean_absolute_loss - 0.1736, mean_iou - 0.9101]\n",
      "valid: 100%|███████████████████████| 2882/2882 [26:34<00:00,  1.81it/s, mean_absolute_loss - 0.2048, mean_iou - 0.8371]\n",
      "Time: 135.55m\n",
      "\n",
      "Epoch 6/10\n",
      "----------\n",
      "train: 100%|█████████████████████| 6235/6235 [1:51:33<00:00,  1.07s/it, mean_absolute_loss - 0.1644, mean_iou - 0.9236]\n",
      "valid: 100%|████████████████████████| 2882/2882 [27:08<00:00,  1.77it/s, mean_absolute_loss - 0.198, mean_iou - 0.9178]\n",
      "Time: 138.69m\n",
      "\n",
      "Epoch 7/10\n",
      "----------\n",
      "train: 100%|██████████████████████| 6235/6235 [1:50:18<00:00,  1.06s/it, mean_absolute_loss - 0.1567, mean_iou - 0.931]\n",
      "valid: 100%|███████████████████████| 2882/2882 [26:31<00:00,  1.81it/s, mean_absolute_loss - 0.1969, mean_iou - 0.7889]\n",
      "Time: 136.83m\n",
      "\n",
      "Epoch 8/10\n",
      "----------\n",
      "train: 100%|█████████████████████| 6235/6235 [1:48:23<00:00,  1.04s/it, mean_absolute_loss - 0.1491, mean_iou - 0.9365]\n",
      "valid: 100%|████████████████████████| 2882/2882 [26:54<00:00,  1.78it/s, mean_absolute_loss - 0.1936, mean_iou - 0.892]\n",
      "Time: 135.31m\n",
      "\n",
      "Epoch 9/10\n",
      "----------\n",
      "train: 100%|█████████████████████| 6235/6235 [1:55:36<00:00,  1.11s/it, mean_absolute_loss - 0.1432, mean_iou - 0.9417]\n",
      "valid: 100%|███████████████████████| 2882/2882 [29:51<00:00,  1.61it/s, mean_absolute_loss - 0.1984, mean_iou - 0.8763]\n",
      "Time: 145.48m\n",
      "\n",
      "Epoch 10/10\n",
      "----------\n",
      "train: 100%|██████████████████████| 6235/6235 [1:55:19<00:00,  1.11s/it, mean_absolute_loss - 0.1377, mean_iou - 0.947]\n",
      "valid: 100%|█████████████████████████| 2882/2882 [30:45<00:00,  1.56it/s, mean_absolute_loss - 0.188, mean_iou - 0.895]\n",
      "Time: 146.08m\n",
      "\n",
      "Least Val Loss:  inf\n",
      "Total time: 1398.35 m\n"
     ]
    }
   ],
   "source": [
    "train_history = train(epoch, model, \n",
    "                     train_loader, val_loader, \n",
    "                     criterion, optimizer, sched, \n",
    "                     metrics, device)"
   ]
  },
  {
   "cell_type": "code",
   "execution_count": null,
   "metadata": {},
   "outputs": [],
   "source": [
    "import torch, gc\n",
    "gc.collect()\n",
    "torch.cuda.empty_cache()"
   ]
  },
  {
   "cell_type": "code",
   "execution_count": 23,
   "metadata": {},
   "outputs": [
    {
     "data": {
      "text/plain": [
       "{'train_loss': [0.36605452943799377,\n",
       "  0.23844949735303173,\n",
       "  0.20472279875132243,\n",
       "  0.18671753273107233,\n",
       "  0.17363083035518584,\n",
       "  0.16439439505278905,\n",
       "  0.15666411144908382,\n",
       "  0.14913153674964424,\n",
       "  0.1432340840034555,\n",
       "  0.13772125569647983],\n",
       " 'val_loss': [0.273599623948707,\n",
       "  0.23854959096906975,\n",
       "  0.23113348867839856,\n",
       "  0.20998620956820785,\n",
       "  0.20480225990234857,\n",
       "  0.19798440016976718,\n",
       "  0.19685596169737105,\n",
       "  0.19355825501792057,\n",
       "  0.19838621022049158,\n",
       "  0.1879921004416559],\n",
       " 'train_iou': [0.7390928014623356,\n",
       "  0.8331628372359473,\n",
       "  0.8733502718526688,\n",
       "  0.8942360411000048,\n",
       "  0.9100795810998883,\n",
       "  0.9236148648197038,\n",
       "  0.9310251938885632,\n",
       "  0.9364548438390737,\n",
       "  0.9417101777928684,\n",
       "  0.946966520948416],\n",
       " 'val_iou': [0.8679739873827853,\n",
       "  0.8308704941534165,\n",
       "  0.8347452201523098,\n",
       "  0.7517680446775646,\n",
       "  0.8371213144473441,\n",
       "  0.9177681823454336,\n",
       "  0.7889189386661477,\n",
       "  0.8920008924109165,\n",
       "  0.8762507142084149,\n",
       "  0.8949710853516764]}"
      ]
     },
     "execution_count": 23,
     "metadata": {},
     "output_type": "execute_result"
    }
   ],
   "source": [
    "train_history"
   ]
  },
  {
   "cell_type": "code",
   "execution_count": 24,
   "metadata": {},
   "outputs": [
    {
     "data": {
      "image/png": "[encoded data removed]",
      "text/plain": [
       "<Figure size 432x288 with 1 Axes>"
      ]
     },
     "metadata": {
      "needs_background": "light"
     },
     "output_type": "display_data"
    }
   ],
   "source": [
    "## plot loss by epoch\n",
    "plt.plot(train_history['val_loss'], label='val', marker='o')\n",
    "plt.plot( train_history['train_loss'], label='train', marker='o')\n",
    "plt.title('Loss per epoch'); plt.ylabel('loss');\n",
    "plt.xlabel('epoch')\n",
    "plt.legend(), plt.grid()\n",
    "plt.show()"
   ]
  },
  {
   "cell_type": "code",
   "execution_count": 25,
   "metadata": {},
   "outputs": [
    {
     "data": {
      "image/png": "[encoded data removed]",
      "text/plain": [
       "<Figure size 432x288 with 1 Axes>"
      ]
     },
     "metadata": {
      "needs_background": "light"
     },
     "output_type": "display_data"
    }
   ],
   "source": [
    "## plot iou score by epoch\n",
    "plt.plot(train_history['train_iou'], label='train_IoU', marker='*')\n",
    "plt.plot(train_history['val_iou'], label='val_IoU',  marker='*')\n",
    "plt.title('Score per epoch'); plt.ylabel('mean IoU')\n",
    "plt.xlabel('epoch')\n",
    "plt.legend(), plt.grid()\n",
    "plt.show()"
   ]
  },
  {
   "cell_type": "code",
   "execution_count": null,
   "metadata": {},
   "outputs": [],
   "source": []
  }
 ],
 "metadata": {
  "kernelspec": {
   "display_name": "Python 3",
   "language": "python",
   "name": "python3"
  },
  "language_info": {
   "codemirror_mode": {
    "name": "ipython",
    "version": 3
   },
   "file_extension": ".py",
   "mimetype": "text/x-python",
   "name": "python",
   "nbconvert_exporter": "python",
   "pygments_lexer": "ipython3",
   "version": "3.7.4"
  }
 },
 "nbformat": 4,
 "nbformat_minor": 2
}
